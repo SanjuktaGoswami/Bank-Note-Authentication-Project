{
  "nbformat": 4,
  "nbformat_minor": 0,
  "metadata": {
    "colab": {
      "provenance": []
    },
    "kernelspec": {
      "name": "python3",
      "display_name": "Python 3"
    },
    "language_info": {
      "name": "python"
    }
  },
  "cells": [
    {
      "cell_type": "code",
      "execution_count": 2,
      "metadata": {
        "colab": {
          "base_uri": "https://localhost:8080/"
        },
        "id": "YI98HApZn7jq",
        "outputId": "feab896f-d84d-41dc-c020-bc3d6b4436d5"
      },
      "outputs": [
        {
          "output_type": "stream",
          "name": "stdout",
          "text": [
            "   variance  skewness  curtosis  entropy  class\n",
            "0   3.62160    8.6661   -2.8073 -0.44699      0\n",
            "1   4.54590    8.1674   -2.4586 -1.46210      0\n",
            "2   3.86600   -2.6383    1.9242  0.10645      0\n",
            "3   3.45660    9.5228   -4.0112 -3.59440      0\n",
            "4   0.32924   -4.4552    4.5718 -0.98880      0\n",
            "   variance  skewness  curtosis  entropy\n",
            "0   3.62160    8.6661   -2.8073 -0.44699\n",
            "1   4.54590    8.1674   -2.4586 -1.46210\n",
            "2   3.86600   -2.6383    1.9242  0.10645\n",
            "3   3.45660    9.5228   -4.0112 -3.59440\n",
            "4   0.32924   -4.4552    4.5718 -0.98880\n",
            "0    0\n",
            "1    0\n",
            "2    0\n",
            "3    0\n",
            "4    0\n",
            "Name: class, dtype: int64\n",
            "0.9951456310679612\n",
            "Model saved!!!\n",
            "[1]\n"
          ]
        },
        {
          "output_type": "stream",
          "name": "stderr",
          "text": [
            "/usr/local/lib/python3.7/dist-packages/sklearn/base.py:451: UserWarning: X does not have valid feature names, but RandomForestClassifier was fitted with feature names\n",
            "  \"X does not have valid feature names, but\"\n"
          ]
        }
      ],
      "source": [
        "import pandas as pd\n",
        "import pickle\n",
        "from sklearn.model_selection import train_test_split\n",
        "from sklearn.ensemble import RandomForestClassifier\n",
        "from sklearn.metrics import accuracy_score\n",
        "\n",
        "df = pd.read_csv('/content/BankNote_Authentication.csv')\n",
        "\n",
        "print(df.head())\n",
        "\n",
        "X = df.iloc[:,:-1]\n",
        "y = df.iloc[:,-1]\n",
        "\n",
        "print(X.head())\n",
        "print(y.head())\n",
        "\n",
        "X_train, X_test, y_train, y_test = train_test_split(X, y, test_size=0.3, random_state=42)\n",
        "\n",
        "rf = RandomForestClassifier()\n",
        "rf.fit(X_train,y_train)\n",
        "\n",
        "pred = rf.predict(X_test)\n",
        "\n",
        "score = accuracy_score(y_test,pred)\n",
        "\n",
        "print(score)\n",
        "\n",
        "with open('classifier.pkl','wb') as file:\n",
        "    pickle.dump(rf,file)\n",
        "\n",
        "print('Model saved!!!')\n",
        "\n",
        "#Let's test a random set of values\n",
        "print(rf.predict([[-2,-3,1,1]]))"
      ]
    }
  ]
}